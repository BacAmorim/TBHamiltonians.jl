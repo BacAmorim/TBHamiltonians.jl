{
 "cells": [
  {
   "cell_type": "code",
   "execution_count": 2,
   "metadata": {},
   "outputs": [
    {
     "name": "stderr",
     "output_type": "stream",
     "text": [
      "┌ Info: Precompiling TBHamiltonians [324fca86-8be2-5ea1-92cb-2c3e0dc0d003]\n",
      "└ @ Base loading.jl:1189\n",
      "ERROR: LoadError: could not open file /home/brunoamorim/MEGAsync/Development/Julia/TBHamiltonians/src/tbham_builders.jl\n",
      "Stacktrace:\n",
      " [1] include at ./boot.jl:317 [inlined]\n",
      " [2] include_relative(::Module, ::String) at ./loading.jl:1041\n",
      " [3] include at ./sysimg.jl:29 [inlined]\n",
      " [4] include(::String) at /home/brunoamorim/MEGAsync/Development/Julia/TBHamiltonians/src/TBHamiltonians.jl:1\n",
      " [5] top-level scope at none:0\n",
      " [6] include at ./boot.jl:317 [inlined]\n",
      " [7] include_relative(::Module, ::String) at ./loading.jl:1041\n",
      " [8] include(::Module, ::String) at ./sysimg.jl:29\n",
      " [9] top-level scope at none:2\n",
      " [10] eval at ./boot.jl:319 [inlined]\n",
      " [11] eval(::Expr) at ./client.jl:389\n",
      " [12] top-level scope at ./none:3\n",
      "in expression starting at /home/brunoamorim/MEGAsync/Development/Julia/TBHamiltonians/src/TBHamiltonians.jl:11\n"
     ]
    },
    {
     "ename": "ErrorException",
     "evalue": "Failed to precompile TBHamiltonians [324fca86-8be2-5ea1-92cb-2c3e0dc0d003] to /home/brunoamorim/.julia/compiled/v1.0/TBHamiltonians/ld8NA.ji.",
     "output_type": "error",
     "traceback": [
      "Failed to precompile TBHamiltonians [324fca86-8be2-5ea1-92cb-2c3e0dc0d003] to /home/brunoamorim/.julia/compiled/v1.0/TBHamiltonians/ld8NA.ji.",
      "",
      "Stacktrace:",
      " [1] error(::String) at ./error.jl:33",
      " [2] macro expansion at ./logging.jl:313 [inlined]",
      " [3] compilecache(::Base.PkgId, ::String) at ./loading.jl:1187",
      " [4] macro expansion at ./logging.jl:311 [inlined]",
      " [5] _require(::Base.PkgId) at ./loading.jl:944",
      " [6] require(::Base.PkgId) at ./loading.jl:855",
      " [7] macro expansion at ./logging.jl:311 [inlined]",
      " [8] require(::Module, ::Symbol) at ./loading.jl:837",
      " [9] top-level scope at In[2]:1"
     ]
    }
   ],
   "source": [
    "using TBHamiltonians"
   ]
  },
  {
   "cell_type": "code",
   "execution_count": null,
   "metadata": {},
   "outputs": [],
   "source": []
  }
 ],
 "metadata": {
  "kernelspec": {
   "display_name": "Julia 1.0.1",
   "language": "julia",
   "name": "julia-1.0"
  },
  "language_info": {
   "file_extension": ".jl",
   "mimetype": "application/julia",
   "name": "julia",
   "version": "1.0.1"
  }
 },
 "nbformat": 4,
 "nbformat_minor": 2
}
